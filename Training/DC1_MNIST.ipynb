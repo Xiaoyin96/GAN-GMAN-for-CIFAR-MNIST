{
 "cells": [
  {
   "cell_type": "code",
   "execution_count": 1,
   "metadata": {},
   "outputs": [
    {
     "name": "stdout",
     "output_type": "stream",
     "text": [
      "USE GPU\n"
     ]
    }
   ],
   "source": [
    "from __future__ import print_function \n",
    "import numpy as np\n",
    "import torch\n",
    "import torch.autograd as ag\n",
    "import torchvision\n",
    "import torchvision.transforms as transforms\n",
    "from matplotlib import pyplot\n",
    "import MNISTtools \n",
    "import torch.nn as nn\n",
    "import torch.nn.functional as F\n",
    "from math import exp\n",
    "import matplotlib as pyplot \n",
    "\n",
    "#########################Load and reshape image###############################\n",
    "\n",
    "def normalize_MNIST_images(x,imgw,imgh,channels,samples):\n",
    "    x = x.astype(np.float64)\n",
    "    x = (2*x - np.max(x))/np.max(x)\n",
    "    x = x.reshape(imgw,imgh,channels,samples)\n",
    "    x = np.moveaxis(x,[0,1,2,3],[2,3,1,0])  #Samples,input_channels,imgw,imgh\n",
    "    return x\n",
    "\n",
    "class generator(nn.Module):\n",
    "\n",
    "    def __init__(self):\n",
    "        super(generator, self).__init__()\n",
    "        #ConvTranspose2d(input_channels,output_channels,kernel_size,stride,padding_value)\n",
    "        #BatchNorm2d: Applies Batch Normalization over a 4d input that is seen as a mini-batch of 3d inputs\n",
    "        \n",
    "        self.deconv1 = nn.ConvTranspose2d(100, 128, 4, 1, 0)\n",
    "        self.deconv1_bn = nn.BatchNorm2d(128)\n",
    "        self.deconv2 = nn.ConvTranspose2d(128, 64, 4)\n",
    "        self.deconv2_bn = nn.BatchNorm2d(64)\n",
    "        self.deconv3 = nn.ConvTranspose2d(64, 32, 4, 2, 1)\n",
    "        self.deconv3_bn = nn.BatchNorm2d(32)\n",
    "        self.deconv4 = nn.ConvTranspose2d(32, 1, 4, 2, 1)\n",
    "\n",
    "    #Weights initialized from a zero-centered normal distribution with standard deviation 0.02\n",
    "    def weight_init(self, mean, std):\n",
    "        for m in self._modules:\n",
    "            normal_init(self._modules[m], mean, std)\n",
    "\n",
    "    # forward method\n",
    "    def forward(self, x):\n",
    "        x = F.relu(self.deconv1_bn(self.deconv1(x)))\n",
    "        x = F.relu(self.deconv2_bn(self.deconv2(x)))\n",
    "        x = F.relu(self.deconv3_bn(self.deconv3(x)))\n",
    "        x = F.tanh(self.deconv4(x))\n",
    "\n",
    "        return x\n",
    "    \n",
    "    \n",
    "class discriminator(nn.Module):\n",
    "    # initializers\n",
    "    def __init__(self):\n",
    "        super(discriminator, self).__init__()\n",
    "        self.conv1 = nn.Conv2d(1, 32, 4, 2, 1)\n",
    "        self.conv2 = nn.Conv2d(32, 64, 4, 2, 1)\n",
    "        self.conv2_bn = nn.BatchNorm2d(64)\n",
    "        self.conv3 = nn.Conv2d(64, 128, 4)\n",
    "        self.conv3_bn = nn.BatchNorm2d(128)\n",
    "        self.conv4 = nn.Conv2d(128, 1, 4, 1, 0)\n",
    "\n",
    "    # weight_init\n",
    "    def weight_init(self, mean, std):\n",
    "        for m in self._modules:\n",
    "            normal_init(self._modules[m], mean, std)\n",
    "\n",
    "    # forward method\n",
    "    def forward(self, input):\n",
    "        x = F.leaky_relu(self.conv1(input), 0.2)\n",
    "        x = F.leaky_relu(self.conv2_bn(self.conv2(x)), 0.2)\n",
    "        x = F.leaky_relu(self.conv3_bn(self.conv3(x)), 0.2)\n",
    "        x = F.sigmoid(self.conv4(x))\n",
    "\n",
    "        return x\n",
    "\n",
    "def normal_init(m, mean, std):\n",
    "    if isinstance(m, nn.ConvTranspose2d) or isinstance(m, nn.Conv2d):\n",
    "        m.weight.data.normal_(mean, std)\n",
    "        m.bias.data.zero_()\n",
    "        \n",
    "\n",
    "\n",
    "G = generator()\n",
    "D = discriminator()\n",
    "G.weight_init(mean=0.0, std=0.02)\n",
    "D.weight_init(mean=0.0, std=0.02)\n",
    "if torch.cuda.is_available():\n",
    "    G.cuda()\n",
    "    D.cuda()\n",
    "    print ('USE GPU')"
   ]
  },
  {
   "cell_type": "code",
   "execution_count": 2,
   "metadata": {},
   "outputs": [],
   "source": [
    "xtrain,ltrain = MNISTtools.load(dataset = \"training\", path = \"/datasets/MNIST\")\n",
    "xtest,ltest = MNISTtools.load(dataset = \"testing\", path = \"/datasets/MNIST\")\n",
    "xtrain = normalize_MNIST_images(xtrain,28,28,1,60000)\n",
    "xtest = normalize_MNIST_images(xtest,28,28,1,10000)\n",
    "\n",
    "xtrain = ag.Variable((torch.from_numpy(xtrain).float()).cuda(),requires_grad=True)\n",
    "ltrain = ag.Variable(torch.from_numpy(ltrain).cuda(),requires_grad=False)\n",
    "xtest = ag.Variable(torch.from_numpy(xtest).cuda(), requires_grad=False)\n",
    "\n",
    "    \n",
    "y_real = torch.ones(100)\n",
    "y_fake = torch.zeros(100)\n",
    "y_real = ag.Variable(y_real.cuda())\n",
    "y_fake = ag.Variable(y_fake.cuda())"
   ]
  },
  {
   "cell_type": "code",
   "execution_count": 3,
   "metadata": {},
   "outputs": [
    {
     "name": "stdout",
     "output_type": "stream",
     "text": [
      "[1/20], loss_d: 0.006, loss_g: 6.088\n",
      "[2/20], loss_d: 0.071, loss_g: 4.058\n",
      "[3/20], loss_d: 1.261, loss_g: 0.004\n",
      "[4/20], loss_d: 0.242, loss_g: 2.728\n",
      "[5/20], loss_d: 0.287, loss_g: 3.186\n",
      "[6/20], loss_d: 0.400, loss_g: 2.121\n",
      "[7/20], loss_d: 0.669, loss_g: 1.585\n",
      "[8/20], loss_d: 0.344, loss_g: 2.444\n",
      "[9/20], loss_d: 1.031, loss_g: 0.887\n",
      "[10/20], loss_d: 0.610, loss_g: 1.896\n",
      "[11/20], loss_d: 0.501, loss_g: 2.129\n",
      "[12/20], loss_d: 0.351, loss_g: 1.478\n",
      "[13/20], loss_d: 0.332, loss_g: 3.630\n",
      "[14/20], loss_d: 0.488, loss_g: 2.396\n",
      "[15/20], loss_d: 0.379, loss_g: 2.923\n",
      "[16/20], loss_d: 0.406, loss_g: 3.464\n",
      "[17/20], loss_d: 0.795, loss_g: 1.580\n",
      "[18/20], loss_d: 0.425, loss_g: 1.520\n",
      "[19/20], loss_d: 0.482, loss_g: 1.988\n",
      "[20/20], loss_d: 0.408, loss_g: 1.778\n"
     ]
    }
   ],
   "source": [
    "N = xtrain.size()[0] # Training set size\n",
    "B = 100              # Minibacth size\n",
    "NB = N/B             # Number of minibatches\n",
    "T = 20               # Number of epochs\n",
    "gamma = .0001         # Learning rate\n",
    "rho = .5            # Momentum\n",
    "    \n",
    "criterion = nn.BCELoss()\n",
    "    \n",
    "G_optimizer = torch.optim.Adam(G.parameters(), lr=gamma, betas=(rho, 0.999))\n",
    "D_optimizer = torch.optim.Adam(D.parameters(), lr=gamma, betas=(rho, 0.999))\n",
    "D_losses = []\n",
    "G_losses = []\n",
    "    \n",
    "for epoch in range(T): \n",
    "    \n",
    "    idxminibatches = np.random.permutation(NB) # shuffling \n",
    "    for k in range(NB):\n",
    "        i = idxminibatches[k] # index of minibatch\n",
    "        \n",
    "        # Extract i-th minibatch from xtrain and ltrain\n",
    "        idxsmp = range(i*B,(i+1)*B) # indices of samples for i-th minibatch\n",
    "            \n",
    "        inputs = xtrain[idxsmp,:,:,:] \n",
    "        \n",
    "        D.zero_grad()\n",
    "\n",
    "        D_result = D(inputs).squeeze()              #Real data and losses\n",
    "        D_real_loss = criterion(D_result, y_real)    #labels is a matrix with ones\n",
    "            \n",
    "            \n",
    "        z_ = torch.randn((100, 100)).view(-1, 100, 1, 1)    \n",
    "        z_ = ag.Variable(z_.cuda())\n",
    "        G_result = G(z_)                            #Generated images by G from noises\n",
    "        \n",
    "        D_result = D(G_result).squeeze()\n",
    "        D_fake_loss = criterion(D_result, y_fake)\n",
    "        D_fake_score = D_result.data.mean()\n",
    "\n",
    "        D_train_loss = D_real_loss + D_fake_loss\n",
    "\n",
    "        D_train_loss.backward()\n",
    "        D_optimizer.step()\n",
    "            \n",
    "        D_losses.append(D_train_loss.data[0])\n",
    "            \n",
    "        # train generator G\n",
    "        G.zero_grad()\n",
    "\n",
    "        z_ = torch.randn((100, 100)).view(-1, 100, 1, 1)\n",
    "        z_ = ag.Variable(z_.cuda())\n",
    "\n",
    "        G_result = G(z_)            \n",
    "        D_result = D(G_result).squeeze()\n",
    "        G_train_loss = criterion(D_result, y_real)\n",
    "        G_train_loss.backward()\n",
    "        G_optimizer.step()\n",
    "\n",
    "        G_losses.append(G_train_loss.data[0])\n",
    "            \n",
    "    print('[%d/%d], loss_d: %.3f, loss_g: %.3f' % ((epoch + 1), T, D_train_loss.data[0],\n",
    "                                                              G_train_loss.data[0]))\n",
    "    \n",
    "torch.save(G.state_dict(), 'netG.pt')\n",
    "torch.save(D.state_dict(), 'netD.pt')"
   ]
  },
  {
   "cell_type": "code",
   "execution_count": 4,
   "metadata": {},
   "outputs": [
    {
     "data": {
      "image/png": "[encoded data removed]",
      "text/plain": [
       "<Figure size 720x360 with 1 Axes>"
      ]
     },
     "metadata": {},
     "output_type": "display_data"
    }
   ],
   "source": [
    "import matplotlib.pyplot as plt\n",
    "plt.figure(figsize=(10, 5))\n",
    "plt.title('Generator and Discriminator Loss during training:GMAN')\n",
    "plt.plot(G_losses, label='G')\n",
    "plt.plot(D_losses, label='D')\n",
    "plt.xlabel('iterations')\n",
    "plt.ylabel('Loss')\n",
    "plt.legend()\n",
    "plt.show()  "
   ]
  },
  {
   "cell_type": "code",
   "execution_count": 5,
   "metadata": {},
   "outputs": [
    {
     "name": "stdout",
     "output_type": "stream",
     "text": [
      "<type 'numpy.ndarray'>\n",
      "(5, 28, 28)\n"
     ]
    }
   ],
   "source": [
    "z_ = torch.randn((5,100)).view(-1, 100, 1, 1)\n",
    "\n",
    "\n",
    "z_ = ag.Variable(z_.cuda(), volatile=True)\n",
    "test_images = G(z_).cpu()\n",
    "test_images = test_images.data.numpy()\n",
    "print(type(test_images))\n",
    "test_images = test_images.squeeze()\n",
    "print(test_images.shape)\n",
    "#for i in range(5):\n",
    "    #MNISTtools.show(test_images[i])"
   ]
  },
  {
   "cell_type": "code",
   "execution_count": 6,
   "metadata": {},
   "outputs": [],
   "source": [
    "import torchvision.datasets as dset\n",
    "def load_dataset(batchSize):\n",
    "    \"\"\"Load MNIST or CIFAR-10 dataset.\"\"\"\n",
    "    transform = transforms.Compose(\n",
    "        [transforms.Resize(32),\n",
    "         transforms.ToTensor(),\n",
    "         transforms.Normalize((0.5, 0.5, 0.5),(0.5, 0.5, 0.5))])\n",
    "    #trainset = dset.CIFAR10(root='./data', train=True, \n",
    "    #                      download=True, transform=transform)\n",
    "    # testset = dset.CIFAR10(root='./data', train=False,\n",
    "    #                      download=True, transform=transform)\n",
    "    trainset = dset.MNIST(root='./data', train=True, \n",
    "                          download=True, transform=transform)\n",
    "    testset = dset.MNIST(root='./data', train=False,\n",
    "                         download=True, transform=transform)\n",
    "    trainLoader = torch.utils.data.DataLoader(trainset, batch_size=batchSize,\n",
    "                                              shuffle=True, num_workers=2)\n",
    "    testLoader = torch.utils.data.DataLoader(testset, batch_size=batchSize,\n",
    "                                             shuffle=True, num_workers=2)\n",
    "    return trainLoader, testLoader\n",
    "\n",
    "trainLoader, testLoader = load_dataset(100)"
   ]
  },
  {
   "cell_type": "code",
   "execution_count": 7,
   "metadata": {},
   "outputs": [
    {
     "name": "stdout",
     "output_type": "stream",
     "text": [
      "0.747417822379\n"
     ]
    }
   ],
   "source": [
    "netG = generator()\n",
    "netG.load_state_dict(torch.load('netG.pt'))\n",
    "netG.eval()\n",
    "netG.cuda()\n",
    "\n",
    "netD = discriminator()\n",
    "netD.load_state_dict(torch.load('netD.pt'))\n",
    "netD.eval()\n",
    "netD.cuda()\n",
    "\n",
    "tempD = []\n",
    "D1 = []\n",
    "\n",
    "\n",
    "\n",
    "\n",
    "#test all real data on discriminator of GAN\n",
    "for epoch in range(10):\n",
    "    for i, (data, target) in enumerate(trainLoader, 0):\n",
    "        realImg = ag.Variable(data.cuda())\n",
    "        batchSize = realImg.size(0)\n",
    "        realLabel = torch.ones(100)\n",
    "        realLabel = realLabel.cuda()\n",
    "        output = netD(realImg).view(-1)\n",
    "        \n",
    "        D_x = output.mean().data[0]\n",
    "        tempD.append(D_x)\n",
    "    av_d = sum(tempD)/len(tempD)\n",
    "    D1.append(av_d)\n",
    "    \n",
    "D1_test = sum(D1)/len(D1)\n",
    "\n",
    "print(D1_test)"
   ]
  },
  {
   "cell_type": "code",
   "execution_count": 8,
   "metadata": {},
   "outputs": [
    {
     "name": "stdout",
     "output_type": "stream",
     "text": [
      "torch.Size([100, 1, 32, 32])\n",
      "100\n"
     ]
    }
   ],
   "source": [
    "print(realImg.shape)\n",
    "print(batchSize)"
   ]
  },
  {
   "cell_type": "code",
   "execution_count": null,
   "metadata": {},
   "outputs": [],
   "source": []
  }
 ],
 "metadata": {
  "kernelspec": {
   "display_name": "Python 2",
   "language": "python",
   "name": "python2"
  },
  "language_info": {
   "codemirror_mode": {
    "name": "ipython",
    "version": 2
   },
   "file_extension": ".py",
   "mimetype": "text/x-python",
   "name": "python",
   "nbconvert_exporter": "python",
   "pygments_lexer": "ipython2",
   "version": "2.7.14"
  }
 },
 "nbformat": 4,
 "nbformat_minor": 2
}
